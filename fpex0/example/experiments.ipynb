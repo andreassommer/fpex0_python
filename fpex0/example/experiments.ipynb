{
 "cells": [
  {
   "cell_type": "code",
   "execution_count": 2,
   "metadata": {},
   "outputs": [],
   "source": [
    "import time\n",
    "import numpy as np\n",
    "import matplotlib.pyplot as plt\n",
    "\n",
    "from fpex0 import fpex0\n",
    "from fpex0.example.exampleSetup import exampleSetup, importExampleMeasurements"
   ]
  },
  {
   "cell_type": "code",
   "execution_count": 1,
   "metadata": {},
   "outputs": [],
   "source": [
    "def experiment():\n",
    "    \"\"\"\n",
    "    Modified version of exampleFit() for numerical experiments with explicit integration methods.\n",
    "\n",
    "    ## Returns \n",
    "    Collected simulations.\n",
    "    \"\"\"\n",
    "    # make example setup\n",
    "    print(\"Creating an example setup.\")\n",
    "    FPEX0setup = exampleSetup('RK45')\n",
    "    exp_data = []\n",
    "\n",
    "    # import the example data\n",
    "    print(\"Importing example data.\")\n",
    "    FPEX0setup = importExampleMeasurements(FPEX0setup, gridskip=2)\n",
    "\n",
    "    # modify some configuration (as example)\n",
    "    print(\"Setting integration options.\")\n",
    "    FPEX0setup.Integration.options[\"rtol\"] = 1e-8\n",
    "    FPEX0setup.Integration.options[\"atol\"] = 1e-14\n",
    "\n",
    "    # fitting\n",
    "    print(\"\\nSolving the fitting problem:\")\n",
    "    refTime = time.time()\n",
    "    fit = fpex0.fit(FPEX0setup, sol_info=exp_data)\n",
    "    duration = time.time() - refTime\n",
    "    print(\"Fit complete.\")\n",
    "    print(f\"Fit time: {duration}s.\")\n",
    "    print(f\"Solution found: p = {fit.x}\")\n",
    "\n",
    "    return exp_data\n",
    "\n",
    "\n",
    "def process_sim(sim, grid):\n",
    "    if sim[0].success:\n",
    "        data = {}\n",
    "        sol = sim[0]\n",
    "        data[\"duration\"] = sim[1]\n",
    "        data[\"y_cont\"] = sol.sol\n",
    "        data[\"t\"] = sol.t\n",
    "        data[\"y\"] = sol.y\n",
    "        data[\"steps\"] = [sol.t[i+1] - sol.t[i] for i in range( len(sol.t)-1 )]\n",
    "        data[\"fun_evals\"] = sol.nfev\n",
    "        data[\"grid\"] = grid\n",
    "    return data\n",
    "\n",
    "\n",
    "def visualize_result(data):\n",
    "    fig, ((ax1, ax2), (ax3, ax4), (ax5, ax6)) = plt.subplots(nrows=3, ncols=2)\n",
    "    \n",
    "    # initial distribution\n",
    "    init_distr = data[\"y_cont\"](0)\n",
    "    grid = data[\"grid\"]\n",
    "    ax1.plot(grid, init_distr, label=\"Initial Distribution\")\n",
    "    ax1.legend()\n",
    "\n",
    "    # time steps\n",
    "    time = data[\"t\"]\n",
    "    steps = data[\"steps\"]\n",
    "    ax2.set_yscale(\"log\")\n",
    "    ax2.grid(True)\n",
    "    ax2.plot(time[:len(steps)], steps, label=\"Integration steps\")\n",
    "    ax2.legend()\n",
    "\n",
    "    # time steps, zoomed in\n",
    "    time_zoomed = np.extract(time <= 1.0, time)\n",
    "    ax4.set_yscale(\"log\")\n",
    "    ax4.grid(True)\n",
    "    ax4.plot(time_zoomed, steps[:len(time_zoomed)], label=\"Integration steps\")\n",
    "    ax4.legend()\n",
    "\n",
    "    # delta y\n",
    "    deriv = [data[\"y\"][i+1][0] - data[\"y\"][i][0] for i in range( len(data[\"y\"])-1 )]\n",
    "    ax3.plot(grid[:len(deriv)], deriv, label=\"Delta y\")\n",
    "    ax3.legend()\n",
    "\n",
    "    # histogram, steps\n",
    "    ax6.hist(time, bins=20, edgecolor=\"black\", label=\"Steps by interval\")\n",
    "    ax6.grid(True)\n",
    "    ax6.legend()\n",
    "\n",
    "    plt.show()"
   ]
  },
  {
   "cell_type": "code",
   "execution_count": null,
   "metadata": {},
   "outputs": [
    {
     "name": "stdout",
     "output_type": "stream",
     "text": [
      "Creating an example setup.\n",
      "Importing example data.\n",
      "    /home/mstrik/software/fpex0-project/fpex0_python/fpex0/example/ID407-rate_0.60.json\n",
      "    /home/mstrik/software/fpex0-project/fpex0_python/fpex0/example/ID407-rate_1.25.json\n",
      "    /home/mstrik/software/fpex0-project/fpex0_python/fpex0/example/ID407-rate_2.50.json\n",
      "    /home/mstrik/software/fpex0-project/fpex0_python/fpex0/example/ID407-rate_5.00.json\n",
      "    /home/mstrik/software/fpex0-project/fpex0_python/fpex0/example/ID407-rate_10.00.json\n",
      "    /home/mstrik/software/fpex0-project/fpex0_python/fpex0/example/ID407-rate_20.00.json\n",
      "Setting integration options.\n",
      "\n",
      "Solving the fitting problem:\n",
      "Running lsq.\n",
      "\n"
     ]
    },
    {
     "name": "stderr",
     "output_type": "stream",
     "text": [
      "/home/mstrik/software/fpex0-project/py3.10-env/lib/python3.8/site-packages/scipy/integrate/_ivp/common.py:39: UserWarning: The following arguments have no effect for a chosen solver: `jac`.\n",
      "  warn(\"The following arguments have no effect for a chosen solver: {}.\"\n"
     ]
    },
    {
     "name": "stdout",
     "output_type": "stream",
     "text": [
      "Simulate: 0.473s\n",
      "Simulate: 0.372s\n",
      "Simulate: 0.343s\n",
      "Simulate: 0.327s\n",
      "Simulate: 0.397s\n",
      "Simulate: 0.378s\n",
      "Simulate: 0.345s\n",
      "Simulate: 0.346s\n",
      "Simulate: 0.366s\n",
      "Simulate: 0.423s\n",
      "Simulate: 0.375s\n",
      "Simulate: 0.439s\n",
      "Simulate: 0.363s\n",
      "Simulate: 0.377s\n",
      "Simulate: 0.324s\n",
      "Simulate: 0.352s\n",
      "Simulate: 0.372s\n",
      "Simulate: 0.341s\n",
      "Simulate: 0.342s\n",
      "   Iteration     Total nfev        Cost      Cost reduction    Step norm     Optimality   \n",
      "       0              1         2.0664e+05                                    3.16e+05    \n",
      "Simulate: 0.960s\n",
      "Simulate: 0.922s\n",
      "Simulate: 0.891s\n",
      "Simulate: 0.927s\n",
      "Simulate: 0.925s\n",
      "Simulate: 0.945s\n",
      "Simulate: 0.933s\n",
      "Simulate: 0.922s\n",
      "Simulate: 1.024s\n",
      "Simulate: 0.947s\n",
      "Simulate: 1.044s\n",
      "Simulate: 0.956s\n",
      "Simulate: 1.090s\n",
      "Simulate: 1.183s\n",
      "Simulate: 1.245s\n",
      "Simulate: 1.043s\n",
      "Simulate: 0.964s\n",
      "Simulate: 1.116s\n",
      "Simulate: 1.131s\n",
      "       1              2         5.0303e+04      1.56e+05       9.82e+00       2.76e+05    \n",
      "Simulate: 2.848s\n",
      "Simulate: 2.765s\n"
     ]
    },
    {
     "ename": "",
     "evalue": "",
     "output_type": "error",
     "traceback": [
      "\u001b[1;31mCanceled future for execute_request message before replies were done"
     ]
    },
    {
     "ename": "",
     "evalue": "",
     "output_type": "error",
     "traceback": [
      "\u001b[1;31mThe Kernel crashed while executing code in the the current cell or a previous cell. Please review the code in the cell(s) to identify a possible cause of the failure. Click <a href='https://aka.ms/vscodeJupyterKernelCrash'>here</a> for more info. View Jupyter <a href='command:jupyter.viewOutput'>log</a> for further details."
     ]
    }
   ],
   "source": [
    "sim_data = experiment()"
   ]
  },
  {
   "cell_type": "code",
   "execution_count": null,
   "metadata": {},
   "outputs": [],
   "source": [
    "grid = np.linspace(60, 160, 1001)\n",
    "data = [process_sim(sim, grid) for sim in sim_data]"
   ]
  },
  {
   "cell_type": "code",
   "execution_count": null,
   "metadata": {},
   "outputs": [],
   "source": [
    "data1 = data[0]\n",
    "data2 = data[21]\n",
    "data3 = data[41]"
   ]
  },
  {
   "cell_type": "code",
   "execution_count": null,
   "metadata": {},
   "outputs": [
    {
     "data": {
      "image/png": "[encoded data removed]",
      "text/plain": [
       "<Figure size 640x480 with 6 Axes>"
      ]
     },
     "metadata": {},
     "output_type": "display_data"
    }
   ],
   "source": [
    "from experiments import visualize_result\n",
    "visualize_result(data1)\n",
    "visualize_result(data2)\n",
    "visualize_result(data3)"
   ]
  },
  {
   "attachments": {},
   "cell_type": "markdown",
   "metadata": {},
   "source": [
    "The stepsizes start very small and then reach a rather constant behaviour quickly. This is coherent with what we expected.\n",
    "In the plot it does not become clear how many these very small steps are. A histogram divided in time intervals will give information about that."
   ]
  },
  {
   "cell_type": "code",
   "execution_count": null,
   "metadata": {},
   "outputs": [
    {
     "name": "stdout",
     "output_type": "stream",
     "text": [
      "156\n",
      "25\n"
     ]
    }
   ],
   "source": [
    "a = len(np.extract(data1[\"t\"]<=1, data1[\"t\"]))\n",
    "b = len(np.extract(data1[\"t\"]<=2, data1[\"t\"]))\n",
    "print(a)\n",
    "print(b-a)"
   ]
  },
  {
   "cell_type": "code",
   "execution_count": null,
   "metadata": {},
   "outputs": [],
   "source": []
  }
 ],
 "metadata": {
  "kernelspec": {
   "display_name": "py3.10-env",
   "language": "python",
   "name": "python3"
  },
  "language_info": {
   "codemirror_mode": {
    "name": "ipython",
    "version": 3
   },
   "file_extension": ".py",
   "mimetype": "text/x-python",
   "name": "python",
   "nbconvert_exporter": "python",
   "pygments_lexer": "ipython3",
   "version": "3.8.10"
  },
  "orig_nbformat": 4
 },
 "nbformat": 4,
 "nbformat_minor": 2
}
